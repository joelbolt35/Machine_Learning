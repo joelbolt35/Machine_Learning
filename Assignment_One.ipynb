{
  "nbformat": 4,
  "nbformat_minor": 0,
  "metadata": {
    "colab": {
      "name": "Assignment One.ipynb",
      "provenance": [],
      "collapsed_sections": [],
      "authorship_tag": "ABX9TyNGxiWtlWFwbOR0+oMiA6yz",
      "include_colab_link": true
    },
    "kernelspec": {
      "name": "python3",
      "display_name": "Python 3"
    }
  },
  "cells": [
    {
      "cell_type": "markdown",
      "metadata": {
        "id": "view-in-github",
        "colab_type": "text"
      },
      "source": [
        "<a href=\"https://colab.research.google.com/github/joelbolt35/Machine_Learning/blob/master/Assignment_One.ipynb\" target=\"_parent\"><img src=\"https://colab.research.google.com/assets/colab-badge.svg\" alt=\"Open In Colab\"/></a>"
      ]
    },
    {
      "cell_type": "markdown",
      "metadata": {
        "id": "DMFYmDf-okim",
        "colab_type": "text"
      },
      "source": [
        "# Multiply Matrices function Explanation (dot product)\n",
        "* Outputs the product of the matrices in the list from index 0 to last index.\n",
        "* If two matrices are incompatible then a custom exception will be thrown.\n",
        "* Exception thrown will show which pair of matrices were invalid\n",
        "\n",
        "# Compatible matrices Rule\n",
        "Given any two matrices where matrix A has dimensions *m* x *n* & matrix B has dimensions *p* x *q* then *p* must equal *n* in order to perform Matrix multiplication.\n",
        "\\begin{equation*}\n",
        "A_{m,n} \\cdotp B_{n,q} = C_{m,q}\n",
        "\\end{equation*}\n",
        "\n",
        "# Example\n",
        "\\begin{equation*}\n",
        "A_{2,1} \\cdotp B_{1,3} = C_{2,3}\n",
        "\\end{equation*}\n",
        "\n",
        "\\begin{equation*}\n",
        "A_{2,1} = \n",
        "\\begin{pmatrix}\n",
        "1  \\\\\n",
        "4  \\\\\n",
        "\\end{pmatrix}\n",
        "\\end{equation*}\n",
        "\n",
        "\\begin{equation*}\n",
        "B_{1,3} = \n",
        "\\begin{pmatrix}\n",
        "1 & 2 & 3  \\\\\n",
        "\\end{pmatrix}\n",
        "\\end{equation*}\n",
        "\n",
        "\\begin{equation*}\n",
        "C_{2,3} = \n",
        "\\begin{pmatrix}\n",
        "1  \\\\\n",
        "4  \\\\\n",
        "\\end{pmatrix}\n",
        "\\cdotp\n",
        "\\begin{pmatrix}\n",
        "1 & 2 & 3  \\\\\n",
        "\\end{pmatrix}\n",
        "=\n",
        "\\begin{pmatrix}\n",
        "1 & 2 & 3  \\\\\n",
        "4 & 8 & 12  \\\\\n",
        "\\end{pmatrix}\n",
        "\\end{equation*}"
      ]
    },
    {
      "cell_type": "code",
      "metadata": {
        "id": "eA6Tgft1oVtj",
        "colab_type": "code",
        "colab": {}
      },
      "source": [
        "import numpy as np\n",
        "import random"
      ],
      "execution_count": 0,
      "outputs": []
    },
    {
      "cell_type": "markdown",
      "metadata": {
        "id": "iT7VIHDGy8vB",
        "colab_type": "text"
      },
      "source": [
        "# Custom Exception for Matrix Multiplication\n",
        "> Checks to see if amtrices are compatible for multiplication\n"
      ]
    },
    {
      "cell_type": "code",
      "metadata": {
        "id": "fekVeK4yzzmd",
        "colab_type": "code",
        "colab": {}
      },
      "source": [
        "class Error(Exception):\n",
        "   \"\"\"Base class for other exceptions\"\"\"\n",
        "   pass\n",
        "class IncompatibleDimensionsError(Error):\n",
        "   \"\"\"Raise when Matrices cannot be multiplied\"\"\"\n",
        "   pass"
      ],
      "execution_count": 0,
      "outputs": []
    },
    {
      "cell_type": "markdown",
      "metadata": {
        "id": "CFlnvUh1rIah",
        "colab_type": "text"
      },
      "source": [
        "## Function to multiply matrices\n",
        "> Returns product of all matrices\n",
        "\n",
        "\n",
        "\n"
      ]
    },
    {
      "cell_type": "code",
      "metadata": {
        "id": "56yv4YdzoZ1i",
        "colab_type": "code",
        "colab": {}
      },
      "source": [
        "def multiply_matrices(listOfMatrices):\n",
        "  try:\n",
        "    ret = listOfMatrices[0]\n",
        "    for i, matrix in enumerate(listOfMatrices[1:]):\n",
        "      if (np.size(ret, 1) != np.size(matrix, 0)):\n",
        "        raise IncompatibleDimensionsError\n",
        "      ret = np.dot(ret, matrix)\n",
        "    return ret\n",
        "  except IncompatibleDimensionsError:\n",
        "    print(\"ERROR!! Resulting Matrix at index \",i,\" and \",(i + 1),\" are incompatible\")\n",
        "    print(\"Their dimensions are \", np.size(ret, 0),\"x\",np.size(ret,1), \" and \", np.size(matrix, 0),\"x\",np.size(matrix,1))\n",
        "  except:\n",
        "    print(\"Unexpected Error\")"
      ],
      "execution_count": 0,
      "outputs": []
    },
    {
      "cell_type": "markdown",
      "metadata": {
        "id": "pGKzr_F1rcs3",
        "colab_type": "text"
      },
      "source": [
        "# Function to generate a list of random matrices\n",
        "> Returns list of matrices\n",
        "> Parameters:\n",
        "* Amount of matrices wanted (param0)\n",
        "* Range of rows wanted (1 to (int)param1)\n",
        "* Range of columns wanted (1 to (int)param2)"
      ]
    },
    {
      "cell_type": "code",
      "metadata": {
        "id": "UgJRss-Aoz1W",
        "colab_type": "code",
        "colab": {}
      },
      "source": [
        "def generate_list_of_random_matrices(numberOfMatrices, rangeOfRows, rangeOfColumns):\n",
        "  matrices = []\n",
        "  for x in range(numberOfMatrices):\n",
        "    matrices.append(np.random.rand(random.randint(1,rangeOfRows),random.randint(1,rangeOfColumns)))\n",
        "  return matrices"
      ],
      "execution_count": 0,
      "outputs": []
    },
    {
      "cell_type": "markdown",
      "metadata": {
        "id": "iNo0avDQr3hM",
        "colab_type": "text"
      },
      "source": [
        "# Function to generate a list of matrices with set dimensions\n",
        "> Returns list of with set size. Guaranteed that all matrices are compatible and should nott return errors\n",
        "> Parameters:\n",
        "* Amount of matrices wanted (param0)\n",
        "* Dimensions of all matrices *m*x*m* (param1)"
      ]
    },
    {
      "cell_type": "code",
      "metadata": {
        "id": "6GgD_z79m1yX",
        "colab_type": "code",
        "colab": {}
      },
      "source": [
        "def generate_list_of_set_size_matrices(numberOfMatrices, dimensions):\n",
        "  matrices = [];\n",
        "  for x in range(numberOfMatrices):\n",
        "    matrices.append(np.random.rand(dimensions,dimensions))\n",
        "  return matrices"
      ],
      "execution_count": 0,
      "outputs": []
    },
    {
      "cell_type": "markdown",
      "metadata": {
        "id": "OxOMj7fAsf4a",
        "colab_type": "text"
      },
      "source": [
        "# Sample code with output"
      ]
    },
    {
      "cell_type": "code",
      "metadata": {
        "id": "pTAUzrpZhyrJ",
        "colab_type": "code",
        "colab": {
          "base_uri": "https://localhost:8080/",
          "height": 51
        },
        "outputId": "6be6a0db-5599-43de-aa41-19ab166f1f18"
      },
      "source": [
        "numMatrices = 8\n",
        "rangeOfRows = 1\n",
        "rangeOfCols = 2\n",
        "listOfMatrices = generate_list_of_random_matrices(numMatrices, rangeOfRows, rangeOfCols)\n",
        "# listOfMatrices = generate_list_of_set_size_matrices(3, 3)\n",
        "\n",
        "multiply_matrices(listOfMatrices)"
      ],
      "execution_count": 392,
      "outputs": [
        {
          "output_type": "stream",
          "text": [
            "ERROR!! Resulting Matrix at index  2  and  3  are incompatible\n",
            "Their dimensions are  1 x 2  and  1 x 2\n"
          ],
          "name": "stdout"
        }
      ]
    }
  ]
}