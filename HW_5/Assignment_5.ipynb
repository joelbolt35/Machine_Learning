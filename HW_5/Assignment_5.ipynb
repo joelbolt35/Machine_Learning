{
  "nbformat": 4,
  "nbformat_minor": 0,
  "metadata": {
    "colab": {
      "name": "Assignment 5.ipynb",
      "provenance": [],
      "collapsed_sections": [
        "wS4DX3O-Myai"
      ],
      "toc_visible": true,
      "authorship_tag": "ABX9TyNiF4xY4tF7lZgmLRIQDP5A",
      "include_colab_link": true
    },
    "kernelspec": {
      "name": "python3",
      "display_name": "Python 3"
    }
  },
  "cells": [
    {
      "cell_type": "markdown",
      "metadata": {
        "id": "view-in-github",
        "colab_type": "text"
      },
      "source": [
        "<a href=\"https://colab.research.google.com/github/joelbolt35/Machine_Learning/blob/master/HW_5/Assignment_5.ipynb\" target=\"_parent\"><img src=\"https://colab.research.google.com/assets/colab-badge.svg\" alt=\"Open In Colab\"/></a>"
      ]
    },
    {
      "cell_type": "markdown",
      "metadata": {
        "id": "g4nXK-X5NA8J",
        "colab_type": "text"
      },
      "source": [
        "# 1. General concepts\n"
      ]
    },
    {
      "cell_type": "markdown",
      "metadata": {
        "id": "PwxnQGrtNKUM",
        "colab_type": "text"
      },
      "source": [
        "## Artificial Intelligence"
      ]
    },
    {
      "cell_type": "markdown",
      "metadata": {
        "id": "NMoLvAM_ZhMY",
        "colab_type": "text"
      },
      "source": [
        "Artificial Intelligence, or A.I. for short, is a large overarching umbrella in computer science.\n",
        "\n",
        "Artificial Intelligence encompasses anything that can be considered intelligent or human-like behavior in computers.\n",
        "\n",
        "For example, here in UCF we have an A.I. for Game Programming course that focuses on A.I. in video games. A.I. in video games is mostly about making the player feel as though the characters or other things in the game make intelligentt decisions.\n",
        "\n",
        "It may be something as simple as an enemy making inttelligent move decision on how to fight back. Do they run away when low on health? Do they use different strategies depending on the situation? These are all examples of Artificial Intelligence at work."
      ]
    },
    {
      "cell_type": "markdown",
      "metadata": {
        "id": "iP7Obb7-MYuD",
        "colab_type": "text"
      },
      "source": [
        "### A couple different Definition of A.I."
      ]
    },
    {
      "cell_type": "markdown",
      "metadata": {
        "id": "NQ_oKoriMqDw",
        "colab_type": "text"
      },
      "source": [
        "*   A branch of computer science dealing with the simulation of intelligent behavior in computers.\n",
        "*   The capability of a machine to imitate intelligent human behavior.\n",
        "*   A computer system able to perform tasks that normally require human intelligence, such as visual perception, speech recognition, decision-making, and translation between languages."
      ]
    },
    {
      "cell_type": "markdown",
      "metadata": {
        "id": "wtHhLXwhNNeq",
        "colab_type": "text"
      },
      "source": [
        "## Machine Learning"
      ]
    },
    {
      "cell_type": "markdown",
      "metadata": {
        "id": "HG0LRZowbCX9",
        "colab_type": "text"
      },
      "source": [
        "Machine Learning is a subset of Artificial Intelligence. Unlike Artificial Intelligence, Machine Learning requires that a machine is able to create their own rules.\n",
        "\n",
        "Following with the same A.I. in games examples. Imagine an enemy that is able to follow you around the map and attack you. It also defends when you attack them. These actions by the enemy follow a set of rules that were defined by the developer.\n",
        "\n",
        "However, in Machine Learning a developer would not define these rules for the enemy. Rather the enemy would create the rules for themselves. The developer only has to tell the enemy A.I. that the end result should be a dead player. The A.I. will determine the rules in which it acheieves that goal.\n",
        "\n",
        "Thus, Machine learning is more dynamic and less brittle because it is less reliant on human \"experts\" to determine its' rules."
      ]
    },
    {
      "cell_type": "markdown",
      "metadata": {
        "id": "bY8a9jOePYGB",
        "colab_type": "text"
      },
      "source": [
        "### Types of Machine Learning"
      ]
    },
    {
      "cell_type": "markdown",
      "metadata": {
        "id": "A-jeBHN_Pt4j",
        "colab_type": "text"
      },
      "source": [
        "* Supervised Learning\n",
        " * Model is provided with a labeled training data\n",
        " * Model will determine the relationship between features and their corresponding labels\n",
        "   * This relationship is called a model\n",
        " * Finds patterns between data and labels\n",
        " * When given an input feature, you are telling the learning model what the expected output should be (aka. you're supervising it)\n",
        "* Unsupervised Learning\n",
        " * Goal: identify meaningful patterns in the data\n",
        " * Machine must learn from an unlabeled\n",
        "data set\n",
        " * Infering its' own rules\n",
        " * Clusters data into different sets\n",
        " * Once new data is tested it will be classified depending on which cluster it falls in\n",
        "* Reinforcement Learning\n",
        " * Here we only tell the ML model what the end result should be\n",
        "  * For example, we can say \"Reach the Game Over Screen\" or \"Kill The Player\"\n",
        " * Here we either push or reward the model depending on whether it reached its goal or not\n",
        " * These punishments and/or rewards will help train the model to know what itt has to do to reach a reward state and avoid punishments"
      ]
    },
    {
      "cell_type": "markdown",
      "metadata": {
        "id": "t8SQOYjoYTRZ",
        "colab_type": "text"
      },
      "source": [
        "### Terms\n",
        "* Label: What we seek to predict\n",
        "* Feature: The input variable"
      ]
    },
    {
      "cell_type": "markdown",
      "metadata": {
        "id": "_MhrhxNSNWa_",
        "colab_type": "text"
      },
      "source": [
        "## Deep Learning"
      ]
    },
    {
      "cell_type": "markdown",
      "metadata": {
        "id": "NL-Kmptq2hCc",
        "colab_type": "text"
      },
      "source": [
        "Deep Learning is technique/algorithm used for realizing machine learning. Thus Deep Learning is a subset of Machine Learning\n",
        "\n",
        "---\n",
        "\n",
        "\\begin{equation}\n",
        "Deep Learning \\subseteq Machine Learning \\subseteq Artificial Intelligence\n",
        "\\end{equation}\n",
        "\n",
        "---\n",
        "\n",
        "You can view Deep Learning as an algorithm which attempts to mimic the way a human brain processes data. It uses an artificial nueral network that are built much like the way the nueral netowrk in our brains work. All the nuerons interconnected in a web-like fasion."
      ]
    },
    {
      "cell_type": "markdown",
      "metadata": {
        "id": "5ah98dWUNCjL",
        "colab_type": "text"
      },
      "source": [
        "# 2. Basic concepts"
      ]
    },
    {
      "cell_type": "markdown",
      "metadata": {
        "id": "Ou1Mh6AqbkiQ",
        "colab_type": "text"
      },
      "source": [
        "## Regression vs Classification"
      ]
    },
    {
      "cell_type": "markdown",
      "metadata": {
        "id": "9-QQfTX3bmzY",
        "colab_type": "text"
      },
      "source": [
        "Regression Model\n",
        "* Predicts Continuous Values\n",
        "\n",
        "Classification Model\n",
        "* Predicts Discrete Values"
      ]
    },
    {
      "cell_type": "markdown",
      "metadata": {
        "id": "yY2osU0KctF2",
        "colab_type": "text"
      },
      "source": [
        "## Mean Square Error (MSE)"
      ]
    },
    {
      "cell_type": "markdown",
      "metadata": {
        "id": "LeWYZ97Mc0s-",
        "colab_type": "text"
      },
      "source": [
        "MSE uses the equation below determines the average squared loss per\n",
        "example over a whole dataset\n",
        "\n",
        "\\begin{equation}\n",
        "\\mathrm{MSE}(w) = \\frac{1}{m} \\sum_{i=1}^m (y^{(i)} - \\hat{y}^{(i)})^2\n",
        "\\end{equation}\n",
        "\n",
        "$\\hat{y}$ is generally defined using the function:\n",
        "\n",
        "\\begin{equation}\n",
        "\\hat{y} = f_w(x^{(i)}) = b + \\sum_{j=1}^n w_j x^{(i)}_j\n",
        "\\end{equation}"
      ]
    },
    {
      "cell_type": "markdown",
      "metadata": {
        "id": "34kKgEhvNDAz",
        "colab_type": "text"
      },
      "source": [
        "## Linear Regression"
      ]
    },
    {
      "cell_type": "markdown",
      "metadata": {
        "id": "GQIfqkziCZka",
        "colab_type": "text"
      },
      "source": [
        "Linear Regression is a method of modeling the relationships in a data set using the equation for a line:\n",
        "\n",
        "---\n",
        "\n",
        "\\begin{equation}\n",
        "Equation\n",
        "\\end{equation}\n",
        "\\begin{equation}\n",
        "- - - - - - - -\n",
        "\\end{equation}\n",
        "\\begin{equation}\n",
        "\\hat{y}=b+\\sum _{j=1}^n\\left(w_jx_j\\right)\\:\n",
        "\\end{equation}\n",
        "\n",
        "---\n",
        "\n",
        "\\begin{equation}\n",
        "Paramaters\n",
        "\\end{equation}\n",
        "\\begin{equation}\n",
        "- - - - - - - -\n",
        "\\end{equation}\n",
        "\\begin{equation}\n",
        "\\hat{y} = Predicted\\ Label\n",
        "\\end{equation}\n",
        "\\begin{equation}\n",
        "b = Bias\n",
        "\\end{equation}\n",
        "\\begin{equation}\n",
        "w_j = Weight\\  of\\ Feature\n",
        "\\end{equation}\n",
        "\\begin{equation}\n",
        "x_j = Known\\ Feature\n",
        "\\end{equation}\n",
        "\\begin{equation}\n",
        "n = Number\\ of\\ Features\n",
        "\\end{equation}\n",
        "\n",
        "---\n"
      ]
    },
    {
      "cell_type": "code",
      "metadata": {
        "id": "8HUsSnoLT2_B",
        "colab_type": "code",
        "outputId": "53060293-6a13-48d6-8141-203cf93cde0f",
        "colab": {
          "base_uri": "https://localhost:8080/",
          "height": 294
        }
      },
      "source": [
        "# Import our modules that we are using\n",
        "import matplotlib.pyplot as plt\n",
        "import numpy as np\n",
        "m = 3\n",
        "b = 2\n",
        "# Create the vectors X and Y\n",
        "x = np.array(range(-10, 10))\n",
        "y = m*x+b\n",
        "\n",
        "# Create the plot\n",
        "plt.plot(x,y)\n",
        "plt.suptitle('Linear Regression', fontsize=20)\n",
        "# Show the plot\n",
        "plt.show()"
      ],
      "execution_count": 0,
      "outputs": [
        {
          "output_type": "display_data",
          "data": {
            "image/png": "[encoded data removed]",
            "text/plain": [
              "<Figure size 432x288 with 1 Axes>"
            ]
          },
          "metadata": {
            "tags": [],
            "needs_background": "light"
          }
        }
      ]
    },
    {
      "cell_type": "markdown",
      "metadata": {
        "id": "hHNXj3A6NDDv",
        "colab_type": "text"
      },
      "source": [
        "## Logistic Regression"
      ]
    },
    {
      "cell_type": "markdown",
      "metadata": {
        "id": "dK_VhyeKL77j",
        "colab_type": "text"
      },
      "source": [
        "Much like Linear Regression; Logistic Regression aims in seperating given data into two categories, generally respresented as 0 or 1.\n",
        "\n",
        "The main difference between Logistic and Linear Regression is the function that is used to seperate the data. While linear regression uses a.. well.. LINEAR equation.. Logistic regression uses a non-linear equation!!\n",
        "\n",
        "Logistic regression uses the sigmoid activation function:\n",
        "\n",
        "\\begin{equation*}\n",
        "\\sigma \\:\\left(z\\right)=\\frac{1}{1+e^z}\n",
        "\\end{equation*}"
      ]
    },
    {
      "cell_type": "code",
      "metadata": {
        "id": "wznzVqV8TSnW",
        "colab_type": "code",
        "outputId": "ae7479e4-b179-4730-ddf6-8462ef7ef25b",
        "colab": {
          "base_uri": "https://localhost:8080/",
          "height": 294
        }
      },
      "source": [
        "# Import our modules that we are using\n",
        "import matplotlib.pyplot as plt\n",
        "import numpy as np\n",
        "\n",
        "# Create the vectors X and Y\n",
        "x = np.linspace(-10, 10, 100)\n",
        "y = 1 / (1 + np.exp(-x))\n",
        "\n",
        "# Create the plot\n",
        "plt.plot(x,y)\n",
        "plt.suptitle('Logistic Regression', fontsize=20)\n",
        "\n",
        "# Show the plot\n",
        "plt.show()"
      ],
      "execution_count": 0,
      "outputs": [
        {
          "output_type": "display_data",
          "data": {
            "image/png": "[encoded data removed]",
            "text/plain": [
              "<Figure size 432x288 with 1 Axes>"
            ]
          },
          "metadata": {
            "tags": [],
            "needs_background": "light"
          }
        }
      ]
    },
    {
      "cell_type": "markdown",
      "metadata": {
        "id": "mPO9hr5GNDKK",
        "colab_type": "text"
      },
      "source": [
        "## Gradient Descent"
      ]
    },
    {
      "cell_type": "markdown",
      "metadata": {
        "id": "i95WRiMtXkJ8",
        "colab_type": "text"
      },
      "source": [
        "Gradient Descent is an algorithm used to calculate the gradient loss of a function.\n",
        "\n",
        "In general the loss function $\\mathcal{L}$ is convex like the graph shown below.\n",
        "\n",
        "Gradient will start at an abritrary starting point on the graph(yellow dot) and begin playing a game of \"hot\" and \"cold\" with the low point (green dot). The Gradient Descent algorithm will then take a step closer to the \"hot\" side (the side closer to the green dot). This is because Gradient Descent is trying to reduce the loss."
      ]
    },
    {
      "cell_type": "code",
      "metadata": {
        "id": "8QahGp1hVbAB",
        "colab_type": "code",
        "outputId": "54887755-0aa1-42b4-8142-fd387b262441",
        "colab": {
          "base_uri": "https://localhost:8080/",
          "height": 294
        }
      },
      "source": [
        "# Import our modules that we are using\n",
        "import matplotlib.pyplot as plt\n",
        "import numpy as np\n",
        "\n",
        "# Create the vectors X and Y\n",
        "x = np.array(range(-10, 10))\n",
        "y = 2.0 * (x - 2.0)**2\n",
        "\n",
        "\n",
        "# Create the plot\n",
        "plt.plot(x,y)\n",
        "plt.plot(-7.5, 180, 'yo', label=\"Start Point\")  \n",
        "plt.plot(2, 0, 'go', label=\"Low Point\")  \n",
        "plt.suptitle('Gradient Descent', fontsize=20)\n",
        "plt.legend()\n",
        "# Show the plot\n",
        "plt.show()"
      ],
      "execution_count": 0,
      "outputs": [
        {
          "output_type": "display_data",
          "data": {
            "image/png": "[encoded data removed]",
            "text/plain": [
              "<Figure size 432x288 with 1 Axes>"
            ]
          },
          "metadata": {
            "tags": [],
            "needs_background": "light"
          }
        }
      ]
    },
    {
      "cell_type": "markdown",
      "metadata": {
        "id": "_jBhbM8l3Yg_",
        "colab_type": "text"
      },
      "source": [
        "It is also important to note here that Gradient descent requires a learning rate to determine how it reacts to the \"hot\" and \"cold\" states.\n",
        "\n",
        "The Learning Rate / Step Size is important to determine how FAR the yellow jumps towards the green dot.\n",
        "\n",
        "Too large of a learning rate will cause overshooting on the gradient descent which can lead to suboptimal results."
      ]
    },
    {
      "cell_type": "markdown",
      "metadata": {
        "id": "4qO2-DSB5mX4",
        "colab_type": "text"
      },
      "source": [
        "## Types of Gradient Descent"
      ]
    },
    {
      "cell_type": "markdown",
      "metadata": {
        "id": "qxp4w9r55qPi",
        "colab_type": "text"
      },
      "source": [
        "There a few different types of Gradient Descent algorithms and they all work in their own unique ways. Here are 3 types of gradient descent:\n",
        "1. Batch Gradient Descent\n",
        " * Has a large batch size\n",
        " * Low noise\n",
        " * Slow runtime\n",
        "2. Stochastic Gradient Descent\n",
        " * Has a batch size of one\n",
        " * High noise\n",
        " * Fast runtime\n",
        "3. Mini-Batch Gradient Descent\n",
        " * Has a batch size between 10 and 10,000\n",
        " * Comparatively balanced noise\n",
        " * Comparatively balanced runtime\n",
        "\n",
        "Note: Gradient descent is performed after every batch"
      ]
    },
    {
      "cell_type": "markdown",
      "metadata": {
        "colab_type": "text",
        "id": "2wQqyK_nNybp"
      },
      "source": [
        "# 3. Building a model"
      ]
    },
    {
      "cell_type": "markdown",
      "metadata": {
        "colab_type": "text",
        "id": "8iaEtHstNybv"
      },
      "source": [
        "## Structure of a convnet"
      ]
    },
    {
      "cell_type": "markdown",
      "metadata": {
        "id": "UH89rNUM9_er",
        "colab_type": "text"
      },
      "source": [
        "Convnet or Convolutional Neural Networks (CNN) is prime example of deep learning. It is mainly used for building models for image classification.\n",
        "\n",
        "This type of model was a breakthrough in machine learning as before CNN were introduced it was widly accepted that preprocessing image data to dderive features such as textures or shapes was the best way to look at images.\n",
        "\n",
        "However, a Convolutional Nueral Network takes the images raw pixel\n",
        "data and “learns” how to extract features such as textures and/or shapes. These extracted features are what determines what object the machine is looking at."
      ]
    },
    {
      "cell_type": "markdown",
      "metadata": {
        "colab_type": "text",
        "id": "5KDfbIlnOk0Z"
      },
      "source": [
        "## Components of a convnet"
      ]
    },
    {
      "cell_type": "markdown",
      "metadata": {
        "id": "VWPG17V1lgrr",
        "colab_type": "text"
      },
      "source": [
        "From Dr. Wocjan's CNN_slides.pdf:\n",
        "\n",
        "![Basic Model Layout](https://i.imgur.com/FH7lo5f.png)\n",
        "\n",
        "Above is an example of the input and output of a convolutional nueral network. The combination of conv2D + ReLU + maxpool is used to extract features from an images. I describe the importance of extracting features from an image in the section \"Structure of a convnet\"."
      ]
    },
    {
      "cell_type": "markdown",
      "metadata": {
        "id": "03dgSR1RpiUg",
        "colab_type": "text"
      },
      "source": [
        "\n",
        "The conv2d+ReLU is a called a **Convolution** Layer. Once data is prepocessed by a combination of Convolution Layers and Max Pooling layers the data is then passed through the **densely connected layers** or **fully connected layers** until an output is reached.\n",
        "\n",
        "```python\n",
        "def conv2d(input_mat, kernel_mat)\n",
        "```\n",
        "\n",
        "The conv2d takes in the input_mat, which represents the image, and the kernel_mat, which represents the filter.\n",
        "\n",
        "Throughout training the CNN will determine optimal filters to pass the image through to determine what the image is.\n",
        "\n",
        "It is important to note that filtering takes a lot of time and is less useful the more times you use it so it is important to find a balance in the number of layers you use for filtering a convolution nueral network.\n",
        "\n",
        "ReLU is used to introduce non-linearity into the Convolution nueral network during each pass of the conv2d layer.\n",
        "\n",
        "---\n",
        "\n",
        "```python\n",
        "def maxpooling2d(input_mat, s)\n",
        "```\n",
        "\n",
        "maxpooling2d takes in the output of conv2d and it is used mainly to extract tiles of size 's'. Max Pooling only grabs the largest value in the subsection, essentially only grabbing the most promising features"
      ]
    },
    {
      "cell_type": "markdown",
      "metadata": {
        "colab_type": "text",
        "id": "pD4xME3-NzIr"
      },
      "source": [
        "# 4. Complying a model"
      ]
    },
    {
      "cell_type": "markdown",
      "metadata": {
        "id": "llxeNMhauLK4",
        "colab_type": "text"
      },
      "source": [
        "## Loss Functions"
      ]
    },
    {
      "cell_type": "markdown",
      "metadata": {
        "id": "OCLtfUZ4uxMv",
        "colab_type": "text"
      },
      "source": [
        "The loss function is the function that we will be looking at to minimize during training. This is one of the two required paramater when compiling a model in keras.\n",
        "\n",
        "Keras has many built-in loss functions that the programmer can access by just calling the name of the loss function. Some examples are:\n",
        "* mean_squared_error\n",
        "  * $\\mathrm{MSE}(w) = \\frac{1}{m} \\sum_{i=1}^m (y^{(i)} - \\hat{y}^{(i)})^2$\n",
        "* categorical_crossentropy\n",
        "  * $\\mathcal{L} = -\\sum_{k=1}^m y_k \\log a_k,$\n",
        "* binary_crossentropy\n",
        "  * $\\mathcal{L}_\\mathrm{ce} = - y \\log a - (1-y) \\log(1-a)\\,.$\n",
        "\n",
        "\n",
        "Here are some simple guidelines laid out by Professor Wocjan:\n",
        "\n",
        "| Problem type              | Last layer activation  | Loss function              | \n",
        "|:-:                        |:-:                     |:-:                         |\n",
        "| Binary classification     | sigmoid                | binary_crossentropy        |\n",
        "| Multiclass, single-label  | softmax                | categorical_crossentropy   |\n",
        "| Mutlticlass, multi-label  | sigmoid                | binary_crossentropy        |\n",
        "| Regression to real values | none                   | mse                        |\n",
        "| Regression to \\[0,1\\]     | sigmoid                | mse or binary_crossentropy |\n"
      ]
    },
    {
      "cell_type": "markdown",
      "metadata": {
        "colab_type": "text",
        "id": "pz0N14klNzI5"
      },
      "source": [
        "## Optimizers"
      ]
    },
    {
      "cell_type": "markdown",
      "metadata": {
        "id": "xtF-yeN8uoqR",
        "colab_type": "text"
      },
      "source": [
        "Optimizers determine how a network would be updated depending on the results of the loss function above. This is where you will see things like the stochastic gradient descent (SGD) that we talked about in \"Basic Concepts\". An Optimizer is the second and last paramater when attempting to compile a keras model.\n",
        "\n",
        "Some common types of Optimizers are:\n",
        " * Stochastic gradient descent (SGD)\n",
        " * RMSProp\n",
        " * Adam\n",
        "\n",
        "In our assignments we mostly used \"Adam\" as our optimizer and \"binary_crossentropy\" as our loss\n",
        "\n",
        "```python\n",
        "model.compile(optimizer='Adam', loss='binary_crossentropy', metrics=['accuracy'])\n",
        "```\n",
        "\n",
        "Note: A Metric is just a function that is used to judge the performance of our models. Multiple metrics can be passed to a keras model. In the code snnipet above we are using \"accuracy\" as our metric"
      ]
    },
    {
      "cell_type": "markdown",
      "metadata": {
        "colab_type": "text",
        "id": "sT3erpBlNzJF"
      },
      "source": [
        "## Learning Rates"
      ]
    },
    {
      "cell_type": "markdown",
      "metadata": {
        "id": "RrAFRsICyy4H",
        "colab_type": "text"
      },
      "source": [
        "The Learning rate in a model is a hyperparameter in the Optimizer function. Learning Rates are generally pre-defined in the Keras Optimizer however programmers can adjust the learning rate to either increase runtime or increase accuracy. You want a learning rate that is just right. Kinda similar to the story of \"Goldilocks and the Three Bears\"\n",
        "\n",
        "(Image source from Dr. Wocjan's 2_e_slides.pdf):\n",
        "\n",
        "Example of learning rate that is too **slow** (porridge is too **cold**):\n",
        "![Basic Model Layout](https://i.imgur.com/ZxHnTmB.png)\n",
        "\n",
        "Example of learning rate that is too **high** (porridge is too **hot**):\n",
        "![Basic Model Layout](https://i.imgur.com/Qcs0Aol.png)\n",
        "\n",
        "Example of learning rate that is **just** right (porridge is **just** right):\n",
        "![Basic Model Layout](https://i.imgur.com/OyoUkTY.png)\n",
        "\n"
      ]
    },
    {
      "cell_type": "markdown",
      "metadata": {
        "colab_type": "text",
        "id": "8ev40yW7N7gL"
      },
      "source": [
        "# 5. Training a model"
      ]
    },
    {
      "cell_type": "markdown",
      "metadata": {
        "id": "fshQs-pEGq-X",
        "colab_type": "text"
      },
      "source": [
        ""
      ]
    },
    {
      "cell_type": "markdown",
      "metadata": {
        "colab_type": "text",
        "id": "mSt-1NQXN7gO"
      },
      "source": [
        "## Overfitting"
      ]
    },
    {
      "cell_type": "markdown",
      "metadata": {
        "id": "xQbyRT8KAP0f",
        "colab_type": "text"
      },
      "source": [
        "Overfiting will cause ML model to do a poor job at predicting new data.\n",
        "\n",
        "Overfitting happens when a model is overfit to match its training data. This is bad because the training data cannot be considered true in all scenarios as there should always be some leeway or margin of error.\n",
        "\n",
        "A developer can detect potential overfitting when there is a low loss on training data but a high loss on testing data.\n",
        "\n",
        "Testing data is new data that has not been seen by the model yet. We as devlopers want our models to fit our data but we want to do it as simply as possible. Overcomplicated models can cause this overfitting to happen. Also, overfitting can occur when a model runs too many epochs with no way to counteract overfitting or the input data set is too small.\n",
        "\n",
        "***Example Set:***\n",
        "\n",
        "![alt text](https://i.imgur.com/ZqK98Xt.png)\n",
        "\n",
        "***Overfitted Predicted Line:***\n",
        "\n",
        "![alt text](https://i.imgur.com/QCBX28z.png)\n",
        "\n",
        "***Image Source -*** Taylor Richards"
      ]
    },
    {
      "cell_type": "markdown",
      "metadata": {
        "colab_type": "text",
        "id": "lxZRMFPsN7gQ"
      },
      "source": [
        "## Underfitting"
      ]
    },
    {
      "cell_type": "markdown",
      "metadata": {
        "id": "l5ZGucYlDN5O",
        "colab_type": "text"
      },
      "source": [
        "Underfitting is rarer than overfitting but and generally results an opposite but similar affect to overfitting. Underfitting will cause ML model to do a poor job at predicting new data just like overfitting would.\n",
        "\n",
        "Underfitting happens when a model is underfit to its training data. This is bad because if a model is underfit then the model will often prefer a certain output over another. If we were to take a binary output for example; An underfit model will result in one of the predicted outputs to be preferred over another resulting in a high false positive rate. A developer can detect potential underfitting when there is a false positive rate on testing data.\n",
        "\n",
        "Underfitting can occur when a model does not run enough epochs. In the picture below you can see that blue would end up with a high false positive rate given the predicted line.\n",
        "\n",
        "***Example Set:***\n",
        "\n",
        "![alt text](https://i.imgur.com/ZqK98Xt.png)\n",
        "\n",
        "***Underfitted Predicted Line:***\n",
        "\n",
        "![alt text](https://i.imgur.com/Yh9cspn.png)\n",
        "\n",
        "***Image Source -*** Taylor Richards"
      ]
    },
    {
      "cell_type": "markdown",
      "metadata": {
        "id": "wS4DX3O-Myai",
        "colab_type": "text"
      },
      "source": [
        "## No Overfitting or Underfitting"
      ]
    },
    {
      "cell_type": "markdown",
      "metadata": {
        "id": "LeGv5ZunMgmP",
        "colab_type": "text"
      },
      "source": [
        "**\"Just Right\" Predicted Line:**\n",
        "\n",
        "![alt text](https://i.imgur.com/wk48Ulc.png)\n",
        "\n",
        "***Image Source -*** Taylor Richards"
      ]
    },
    {
      "cell_type": "markdown",
      "metadata": {
        "colab_type": "text",
        "id": "8lUuYL5yN93L"
      },
      "source": [
        "# 6. Finetuning a pretrained model"
      ]
    },
    {
      "cell_type": "markdown",
      "metadata": {
        "id": "nsBq__dVo2pj",
        "colab_type": "text"
      },
      "source": [
        "## Feature extraction"
      ]
    },
    {
      "cell_type": "markdown",
      "metadata": {
        "id": "0g6ETAM9o54M",
        "colab_type": "text"
      },
      "source": [
        "Keras Applications are a set of Deep Learning models that are made available by Keras. Each Keras Application come packaged with a set of pre-trained weights that can be used for predictions, feature extraction, and fine-tuning.\n",
        "\n",
        "The available Keras Applications are:\n",
        "\n",
        "    Xception\n",
        "    VGG16\n",
        "    VGG19\n",
        "    ResNet, ResNetV2\n",
        "    InceptionV3\n",
        "    InceptionResNetV2\n",
        "    MobileNet\n",
        "    MobileNetV2\n",
        "    DenseNet\n",
        "    NASNet\n",
        "\n",
        "We can use these pre-trained keras applications to extract interesting features that we may want to use in new samples. In HW 5 we extracted the convolution base of the VGG16 model. We also used this to fine-tune our model at the end."
      ]
    },
    {
      "cell_type": "markdown",
      "metadata": {
        "id": "LQ0Hq7qwQsFy",
        "colab_type": "text"
      },
      "source": [
        "## Fine Tuning"
      ]
    },
    {
      "cell_type": "markdown",
      "metadata": {
        "id": "LTgupmuhQtl8",
        "colab_type": "text"
      },
      "source": [
        "The fine tuning face consisted of freezing a portion of the convolution base but not all blocks. In the code snipper below you can see that the full convolution base is frozen at first then block 5 is unfrozen for fine-tuning."
      ]
    },
    {
      "cell_type": "code",
      "metadata": {
        "id": "evUBXCelS4B_",
        "colab_type": "code",
        "colab": {
          "base_uri": "https://localhost:8080/",
          "height": 917
        },
        "outputId": "71e3256e-d727-4fe2-8a32-57d3784f23b0"
      },
      "source": [
        "from keras.applications import VGG16\n",
        "conv_base = VGG16(weights='imagenet', include_top=False, input_shape=(150, 150, 3))\n",
        "conv_base.summary()"
      ],
      "execution_count": 12,
      "outputs": [
        {
          "output_type": "stream",
          "text": [
            "Using TensorFlow backend.\n"
          ],
          "name": "stderr"
        },
        {
          "output_type": "stream",
          "text": [
            "Downloading data from https://github.com/fchollet/deep-learning-models/releases/download/v0.1/vgg16_weights_tf_dim_ordering_tf_kernels_notop.h5\n",
            "58892288/58889256 [==============================] - 5s 0us/step\n",
            "Model: \"vgg16\"\n",
            "_________________________________________________________________\n",
            "Layer (type)                 Output Shape              Param #   \n",
            "=================================================================\n",
            "input_1 (InputLayer)         (None, 150, 150, 3)       0         \n",
            "_________________________________________________________________\n",
            "block1_conv1 (Conv2D)        (None, 150, 150, 64)      1792      \n",
            "_________________________________________________________________\n",
            "block1_conv2 (Conv2D)        (None, 150, 150, 64)      36928     \n",
            "_________________________________________________________________\n",
            "block1_pool (MaxPooling2D)   (None, 75, 75, 64)        0         \n",
            "_________________________________________________________________\n",
            "block2_conv1 (Conv2D)        (None, 75, 75, 128)       73856     \n",
            "_________________________________________________________________\n",
            "block2_conv2 (Conv2D)        (None, 75, 75, 128)       147584    \n",
            "_________________________________________________________________\n",
            "block2_pool (MaxPooling2D)   (None, 37, 37, 128)       0         \n",
            "_________________________________________________________________\n",
            "block3_conv1 (Conv2D)        (None, 37, 37, 256)       295168    \n",
            "_________________________________________________________________\n",
            "block3_conv2 (Conv2D)        (None, 37, 37, 256)       590080    \n",
            "_________________________________________________________________\n",
            "block3_conv3 (Conv2D)        (None, 37, 37, 256)       590080    \n",
            "_________________________________________________________________\n",
            "block3_pool (MaxPooling2D)   (None, 18, 18, 256)       0         \n",
            "_________________________________________________________________\n",
            "block4_conv1 (Conv2D)        (None, 18, 18, 512)       1180160   \n",
            "_________________________________________________________________\n",
            "block4_conv2 (Conv2D)        (None, 18, 18, 512)       2359808   \n",
            "_________________________________________________________________\n",
            "block4_conv3 (Conv2D)        (None, 18, 18, 512)       2359808   \n",
            "_________________________________________________________________\n",
            "block4_pool (MaxPooling2D)   (None, 9, 9, 512)         0         \n",
            "_________________________________________________________________\n",
            "block5_conv1 (Conv2D)        (None, 9, 9, 512)         2359808   \n",
            "_________________________________________________________________\n",
            "block5_conv2 (Conv2D)        (None, 9, 9, 512)         2359808   \n",
            "_________________________________________________________________\n",
            "block5_conv3 (Conv2D)        (None, 9, 9, 512)         2359808   \n",
            "_________________________________________________________________\n",
            "block5_pool (MaxPooling2D)   (None, 4, 4, 512)         0         \n",
            "=================================================================\n",
            "Total params: 14,714,688\n",
            "Trainable params: 14,714,688\n",
            "Non-trainable params: 0\n",
            "_________________________________________________________________\n"
          ],
          "name": "stdout"
        }
      ]
    },
    {
      "cell_type": "code",
      "metadata": {
        "id": "PwkVMx8N8qMw",
        "colab_type": "code",
        "colab": {}
      },
      "source": [
        "conv_base.trainable = True\n",
        "\n",
        "set_trainable = False\n",
        "for layer in conv_base.layers:\n",
        "  if layer.name == 'block5_conv1':\n",
        "    set_trainable = True\n",
        "  if set_trainable:\n",
        "    layer.trainable = True\n",
        "  else:\n",
        "    layer.trainable = False"
      ],
      "execution_count": 0,
      "outputs": []
    },
    {
      "cell_type": "markdown",
      "metadata": {
        "id": "xsMpbH_aTsj0",
        "colab_type": "text"
      },
      "source": [
        "Our new layers including the frozen 4 blocks will look something like this for the fine-tuning phase:\n",
        "\n",
        "![alt text](https://i.imgur.com/9PPAlyq.png)\n",
        "\n",
        "**Source -** Deep Learning with Python (Page 153)"
      ]
    }
  ]
}