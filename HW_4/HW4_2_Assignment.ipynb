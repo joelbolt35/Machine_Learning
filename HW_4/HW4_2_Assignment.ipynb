{
  "nbformat": 4,
  "nbformat_minor": 0,
  "metadata": {
    "colab": {
      "name": "HW4.2 Assignment.ipynb",
      "provenance": [],
      "collapsed_sections": [
        "-AMFikG3UgHO",
        "S8PamjP7wU0c",
        "oAw-JF9IUmmU",
        "piaQoHxJ3069",
        "26Qgj91L3XXN"
      ],
      "authorship_tag": "ABX9TyPqjC6kzbMVTn4vlf/rdRH7",
      "include_colab_link": true
    },
    "kernelspec": {
      "name": "python3",
      "display_name": "Python 3"
    }
  },
  "cells": [
    {
      "cell_type": "markdown",
      "metadata": {
        "id": "view-in-github",
        "colab_type": "text"
      },
      "source": [
        "<a href=\"https://colab.research.google.com/github/joelbolt35/Machine_Learning/blob/master/HW_4/HW4_2_Assignment.ipynb\" target=\"_parent\"><img src=\"https://colab.research.google.com/assets/colab-badge.svg\" alt=\"Open In Colab\"/></a>"
      ]
    },
    {
      "cell_type": "markdown",
      "metadata": {
        "colab_type": "text",
        "id": "rXMkKWc2UmmO"
      },
      "source": [
        "# Problem 2"
      ]
    },
    {
      "cell_type": "markdown",
      "metadata": {
        "colab_type": "text",
        "id": "oAw-JF9IUmmU"
      },
      "source": [
        "## Imports"
      ]
    },
    {
      "cell_type": "code",
      "metadata": {
        "colab_type": "code",
        "id": "BFDZ0gD8UmmV",
        "colab": {}
      },
      "source": [
        "import numpy as np\n",
        "import math"
      ],
      "execution_count": 0,
      "outputs": []
    },
    {
      "cell_type": "markdown",
      "metadata": {
        "id": "YdK3jjrFVRgp",
        "colab_type": "text"
      },
      "source": [
        "## Custom Error"
      ]
    },
    {
      "cell_type": "code",
      "metadata": {
        "id": "nX_oHvIg0IjW",
        "colab_type": "code",
        "colab": {}
      },
      "source": [
        "class InputError(Exception):\n",
        "   pass"
      ],
      "execution_count": 0,
      "outputs": []
    },
    {
      "cell_type": "markdown",
      "metadata": {
        "id": "piaQoHxJ3069",
        "colab_type": "text"
      },
      "source": [
        "## Test Inputs"
      ]
    },
    {
      "cell_type": "code",
      "metadata": {
        "id": "X_i8LVO633F-",
        "colab_type": "code",
        "colab": {}
      },
      "source": [
        "input_mat1 = np.array([[1, 2, 1, 2],\n",
        "                      [2, 4, 2, 1],\n",
        "                      [1, 2, 4, 2],\n",
        "                      [2, 1, 2, 1]])\n",
        "s1 = 2\n",
        "expected_mat1 = np.array([[4, 2],\n",
        "                          [2, 4]])\n",
        "\n",
        "input_mat2 = np.array([[1, 2, 1, 2, 4, 5],\n",
        "                       [2, 4, 2, 1, 0, 3],\n",
        "                       [1, 2, 4, 2, 4, 5],\n",
        "                       [2, 1, 2, 1, 2, 1],\n",
        "                       [1, 1, 2, 3, 1, 2],\n",
        "                       [0, 0, 0, 0, 0, 0]])\n",
        "s2 = 2\n",
        "expected_mat2 = np.array([[4, 2, 5],\n",
        "                          [2, 4, 5],\n",
        "                          [1, 3, 2]])"
      ],
      "execution_count": 0,
      "outputs": []
    },
    {
      "cell_type": "markdown",
      "metadata": {
        "id": "97vivc1KZ68m",
        "colab_type": "text"
      },
      "source": [
        "## Square Matrix Detection Function"
      ]
    },
    {
      "cell_type": "code",
      "metadata": {
        "id": "FXm9RDaOaFQs",
        "colab_type": "code",
        "colab": {}
      },
      "source": [
        "def isSquare(mat):\n",
        "  if type(mat) is np.ndarray:\n",
        "    dimensions = mat.shape\n",
        "    if len(dimensions) == 2:\n",
        "      if dimensions[0] == dimensions[1]:\n",
        "        return True\n",
        "  raise InputError(\"Not Square\")\n",
        "  return False"
      ],
      "execution_count": 0,
      "outputs": []
    },
    {
      "cell_type": "markdown",
      "metadata": {
        "id": "26Qgj91L3XXN",
        "colab_type": "text"
      },
      "source": [
        "## Validate maxPooling2D input"
      ]
    },
    {
      "cell_type": "code",
      "metadata": {
        "id": "9su-KG9HzEIE",
        "colab_type": "code",
        "colab": {}
      },
      "source": [
        "def validateMaxPooling2d(input_mat, s):\n",
        "  if not isSquare(input_mat):\n",
        "    raise InputError('input_mat needs to be a rectangular')\n",
        "    return False\n",
        "  elif type(s) != int:\n",
        "    raise InputError('s needs to be an integer')\n",
        "    return False\n",
        "  elif s > input_mat.shape[0]:\n",
        "    raise InputError('s needs to be less than input_mat size')\n",
        "    return False\n",
        "  elif s <= 0:\n",
        "    raise InputError('s cannot be less than or equal to 0')\n",
        "    return False\n",
        "  return True"
      ],
      "execution_count": 0,
      "outputs": []
    },
    {
      "cell_type": "markdown",
      "metadata": {
        "id": "buovdITo3c1U",
        "colab_type": "text"
      },
      "source": [
        "## Defining maxpooling2d"
      ]
    },
    {
      "cell_type": "code",
      "metadata": {
        "id": "g_8MgvSqwptu",
        "colab_type": "code",
        "colab": {}
      },
      "source": [
        "def maxpooling2d(input_mat, s):\n",
        "  if not validateMaxPooling2d(input_mat, s):\n",
        "    return []\n",
        "  input_h = input_mat.shape[0]\n",
        "  input_w = input_mat.shape[1]\n",
        "  output_h = math.floor((input_h - s) / s + 1)\n",
        "  output_w = math.floor((input_w - s) / s + 1)\n",
        "\n",
        "  output_matrix = np.zeros((output_h, output_w))\n",
        "  for i in range(0, output_h+s, s):\n",
        "    for j in range(0, output_w+s, s):\n",
        "      output_matrix[round(i/s), round(j/s)] = np.max(input_mat[i:i+s, j:j+s])\n",
        "  return output_matrix"
      ],
      "execution_count": 0,
      "outputs": []
    },
    {
      "cell_type": "code",
      "metadata": {
        "id": "IClCTfy1Vl7H",
        "colab_type": "code",
        "colab": {
          "base_uri": "https://localhost:8080/",
          "height": 72
        },
        "outputId": "282bd5db-4d42-449a-dd36-741bdd7a72fa"
      },
      "source": [
        "maxpooling2d(input_mat2, s2)"
      ],
      "execution_count": 58,
      "outputs": [
        {
          "output_type": "execute_result",
          "data": {
            "text/plain": [
              "array([[4., 2., 5.],\n",
              "       [2., 4., 5.],\n",
              "       [1., 3., 2.]])"
            ]
          },
          "metadata": {
            "tags": []
          },
          "execution_count": 58
        }
      ]
    }
  ]
}