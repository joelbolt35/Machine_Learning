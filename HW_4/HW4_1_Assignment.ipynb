{
  "nbformat": 4,
  "nbformat_minor": 0,
  "metadata": {
    "colab": {
      "name": "HW4.1 Assignment.ipynb",
      "provenance": [],
      "collapsed_sections": [],
      "authorship_tag": "ABX9TyP3p5LUTRENkMxLOL7OAc/H",
      "include_colab_link": true
    },
    "kernelspec": {
      "name": "python3",
      "display_name": "Python 3"
    }
  },
  "cells": [
    {
      "cell_type": "markdown",
      "metadata": {
        "id": "view-in-github",
        "colab_type": "text"
      },
      "source": [
        "<a href=\"https://colab.research.google.com/github/joelbolt35/Machine_Learning/blob/master/HW_4/HW4_1_Assignment.ipynb\" target=\"_parent\"><img src=\"https://colab.research.google.com/assets/colab-badge.svg\" alt=\"Open In Colab\"/></a>"
      ]
    },
    {
      "cell_type": "markdown",
      "metadata": {
        "colab_type": "text",
        "id": "lsZ5usufUgHD"
      },
      "source": [
        "# Problem 1"
      ]
    },
    {
      "cell_type": "markdown",
      "metadata": {
        "id": "YdK3jjrFVRgp",
        "colab_type": "text"
      },
      "source": [
        "## Custom Error"
      ]
    },
    {
      "cell_type": "code",
      "metadata": {
        "id": "nX_oHvIg0IjW",
        "colab_type": "code",
        "colab": {}
      },
      "source": [
        "class InputError(Exception):\n",
        "   pass"
      ],
      "execution_count": 0,
      "outputs": []
    },
    {
      "cell_type": "markdown",
      "metadata": {
        "colab_type": "text",
        "id": "-AMFikG3UgHO"
      },
      "source": [
        "## Imports"
      ]
    },
    {
      "cell_type": "code",
      "metadata": {
        "colab_type": "code",
        "id": "Dw7eSrHGUgHX",
        "colab": {}
      },
      "source": [
        "import numpy as np"
      ],
      "execution_count": 0,
      "outputs": []
    },
    {
      "cell_type": "markdown",
      "metadata": {
        "id": "8ZGSQ4fRdADA",
        "colab_type": "text"
      },
      "source": [
        "## Test Inputs"
      ]
    },
    {
      "cell_type": "code",
      "metadata": {
        "id": "PecGlrSbdWKi",
        "colab_type": "code",
        "colab": {}
      },
      "source": [
        "input_mat = np.array([[1, 2, 1, 2],\n",
        "                      [2, 1, 2, 1],\n",
        "                      [1, 2, 1, 2],\n",
        "                      [2, 1, 2, 1]])\n",
        "\n",
        "kernel_mat = np.array([[1, 0],\n",
        "                       [0, 1]])\n",
        "\n",
        "expected_mat = np.array([[2, 4, 2],\n",
        "                         [4, 2, 4],\n",
        "                         [2, 4, 2]])\n",
        "\n",
        "square = np.array([[2, 4, 2],\n",
        "                   [4, 2, 4],\n",
        "                   [2, 4, 3]])\n",
        "\n",
        "square_box = np.array([[[2, 4, 2], [4, 2, 4], [2, 4, 3]],\n",
        "                       [[2, 4, 2], [4, 2, 4], [2, 4, 3]],\n",
        "                       [[2, 4, 2], [4, 2, 4], [2, 4, 3]]])\n"
      ],
      "execution_count": 0,
      "outputs": []
    },
    {
      "cell_type": "markdown",
      "metadata": {
        "id": "97vivc1KZ68m",
        "colab_type": "text"
      },
      "source": [
        "## Square Matrix Detection Function"
      ]
    },
    {
      "cell_type": "code",
      "metadata": {
        "id": "FXm9RDaOaFQs",
        "colab_type": "code",
        "colab": {}
      },
      "source": [
        "def isSquare(mat):\n",
        "  if type(mat) is np.ndarray:\n",
        "    dimensions = mat.shape\n",
        "    if len(dimensions) == 2:\n",
        "      if dimensions[0] == dimensions[1]:\n",
        "        return True\n",
        "  raise InputError(\"Not Square\")\n",
        "  return False"
      ],
      "execution_count": 0,
      "outputs": []
    },
    {
      "cell_type": "code",
      "metadata": {
        "id": "GRq8bTdakG8Y",
        "colab_type": "code",
        "colab": {}
      },
      "source": [
        "def verifyFilter(input_mat, kernel_mat):\n",
        "  if not isSquare(input_mat):\n",
        "    raise InputError('input_mat needs to be rectangular')\n",
        "    return False\n",
        "  elif not isSquare(kernel_mat):\n",
        "    raise InputError('kernal_mat needs to be rectangular')\n",
        "    return False\n",
        "  elif input_mat.shape[0] < kernel_mat.shape[0]:\n",
        "    raise InputError('kernal_mat cannot be larger than input_mat')\n",
        "    return False\n",
        "  return True"
      ],
      "execution_count": 0,
      "outputs": []
    },
    {
      "cell_type": "markdown",
      "metadata": {
        "id": "vc9Sa_x8wajK",
        "colab_type": "text"
      },
      "source": [
        "## Testing isRectangular function"
      ]
    },
    {
      "cell_type": "code",
      "metadata": {
        "id": "QKmkcpEseIND",
        "colab_type": "code",
        "outputId": "d9d996d8-0ebf-4ba0-dede-63b742f7cbf8",
        "colab": {
          "base_uri": "https://localhost:8080/",
          "height": 109
        }
      },
      "source": [
        "print(isSquare(input_mat))\n",
        "print(isSquare(kernel_mat))\n",
        "print(isSquare(expected_mat))\n",
        "print(isSquare(square))\n",
        "# print(isSquare(square_box))\n",
        "print(square_box.shape)"
      ],
      "execution_count": 26,
      "outputs": [
        {
          "output_type": "stream",
          "text": [
            "True\n",
            "True\n",
            "True\n",
            "True\n",
            "(3, 3, 3)\n"
          ],
          "name": "stdout"
        }
      ]
    },
    {
      "cell_type": "markdown",
      "metadata": {
        "id": "jI8JB-1xUxuc",
        "colab_type": "text"
      },
      "source": [
        "## Defining conv2d\n"
      ]
    },
    {
      "cell_type": "code",
      "metadata": {
        "id": "bz-VrrevZkng",
        "colab_type": "code",
        "colab": {}
      },
      "source": [
        "def conv2d(input_mat, kernel_mat):\n",
        "  if not verifyFilter(input_mat, kernel_mat):\n",
        "    return []\n",
        "\n",
        "  kernel_n = kernel_mat.shape[0]\n",
        "  input_n = input_mat.shape[0]\n",
        "  output_n = input_n - kernel_n + 1\n",
        "\n",
        "  # Flip The Kernel\n",
        "  kernel_mat = np.rot90(kernel_mat, 2)\n",
        "  output_matrix = np.zeros((output_n, output_n))\n",
        "  for i, output_row in enumerate(output_matrix):\n",
        "    for j, output_block in enumerate(output_row):\n",
        "      output_matrix[i, j] = np.sum(np.multiply(kernel_mat, input_mat[i:i+kernel_n, j:j+kernel_n]))\n",
        "  return output_matrix"
      ],
      "execution_count": 0,
      "outputs": []
    },
    {
      "cell_type": "markdown",
      "metadata": {
        "id": "S8PamjP7wU0c",
        "colab_type": "text"
      },
      "source": [
        "## Testing conv2d"
      ]
    },
    {
      "cell_type": "code",
      "metadata": {
        "id": "1taNQF4ahz3_",
        "colab_type": "code",
        "outputId": "ff692b88-54ad-4db6-b4de-a90b3d7dad4f",
        "colab": {
          "base_uri": "https://localhost:8080/",
          "height": 72
        }
      },
      "source": [
        "conv2d(input_mat, kernel_mat)"
      ],
      "execution_count": 28,
      "outputs": [
        {
          "output_type": "execute_result",
          "data": {
            "text/plain": [
              "array([[2., 4., 2.],\n",
              "       [4., 2., 4.],\n",
              "       [2., 4., 2.]])"
            ]
          },
          "metadata": {
            "tags": []
          },
          "execution_count": 28
        }
      ]
    }
  ]
}